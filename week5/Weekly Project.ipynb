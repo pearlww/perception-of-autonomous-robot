{
 "cells": [
  {
   "cell_type": "markdown",
   "metadata": {},
   "source": [
    "# Weekly Project 5\n",
    "## Global Registration implementation.\n",
    "## Task 1\n",
    "Today your project is to implement a global registration algorithm.\n",
    "\n",
    "It should be able to roughly align two pointclouds.\n",
    "1. Implement global registration\n",
    "2. Can you fit **r1.pcd** and **r2.pcd**?\n",
    "3. Can you fit **car1.ply** and **car2.ply**?\n",
    "These are in the *global_registration* folder\n",
    "\n",
    "\n",
    "\n",
    "## Task 2 (Challange)\n",
    "Challanges attempt either or both:\n",
    "- Implement local registration.\n",
    "\n",
    "- Attempt to reconstruct the car from the images in *car_challange* folder.\n",
    "\n",
    "You can use the exercises from monday as a starting point."
   ]
  },
  {
   "cell_type": "code",
   "execution_count": 14,
   "metadata": {},
   "outputs": [],
   "source": [
    "###\n",
    "# Add code here\n",
    "import open3d as o3d\n",
    "import numpy as np\n",
    "import copy\n",
    "from sklearn.neighbors import KDTree\n",
    "\n",
    "# helper function for drawing if you want it to be more clear which is which set recolor=True\n",
    "def draw_registrations(source, target, transformation = None, recolor = False):\n",
    "    source_temp = copy.deepcopy(source)\n",
    "    target_temp = copy.deepcopy(target)\n",
    "    if(recolor):\n",
    "        source_temp.paint_uniform_color([1, 0.706, 0])\n",
    "        target_temp.paint_uniform_color([0, 0.651, 0.929])\n",
    "    if(transformation is not None):\n",
    "        source_temp.transform(transformation)\n",
    "    o3d.visualization.draw_geometries([source_temp, target_temp])"
   ]
  },
  {
   "cell_type": "code",
   "execution_count": 2,
   "metadata": {},
   "outputs": [],
   "source": [
    "source = o3d.io.read_point_cloud(\"global_registration/r1.pcd\")\n",
    "#target = o3d.io.read_point_cloud(\"ICP/r2.pcd\")\n",
    "target = o3d.io.read_point_cloud(\"global_registration/r2.pcd\")\n",
    "\n",
    "# Show models side by side\n",
    "draw_registrations(source, target)"
   ]
  },
  {
   "cell_type": "code",
   "execution_count": 3,
   "metadata": {},
   "outputs": [],
   "source": [
    "def preprocess_point_cloud(pcd, voxel_size):\n",
    "    print(\":: Downsample with a voxel size %.3f.\" % voxel_size)\n",
    "    pcd_down = pcd.voxel_down_sample(voxel_size)\n",
    "\n",
    "    radius_normal = voxel_size * 2\n",
    "    print(\":: Estimate normal with search radius %.3f.\" % radius_normal)\n",
    "    pcd_down.estimate_normals(\n",
    "        o3d.geometry.KDTreeSearchParamHybrid(radius=radius_normal, max_nn=30))\n",
    "\n",
    "    radius_feature = voxel_size * 5\n",
    "    print(\":: Compute FPFH feature with search radius %.3f.\" % radius_feature)\n",
    "    pcd_fpfh = o3d.registration.compute_fpfh_feature(\n",
    "        pcd_down,\n",
    "        o3d.geometry.KDTreeSearchParamHybrid(radius=radius_feature, max_nn=100))\n",
    "    return pcd_down, pcd_fpfh"
   ]
  },
  {
   "cell_type": "code",
   "execution_count": 4,
   "metadata": {},
   "outputs": [
    {
     "output_type": "stream",
     "name": "stdout",
     "text": ":: Downsample with a voxel size 0.050.\n:: Estimate normal with search radius 0.100.\n:: Compute FPFH feature with search radius 0.250.\n:: Downsample with a voxel size 0.050.\n:: Estimate normal with search radius 0.100.\n:: Compute FPFH feature with search radius 0.250.\n"
    }
   ],
   "source": [
    "voxel_size=0.05 #越大越稀疏\n",
    "\n",
    "source_down,source_fpfh = preprocess_point_cloud(source,voxel_size)\n",
    "target_down, target_fpfh = preprocess_point_cloud(target,voxel_size)\n",
    "draw_registrations(source_down, target_down,recolor = True)"
   ]
  },
  {
   "cell_type": "code",
   "execution_count": 21,
   "metadata": {},
   "outputs": [
    {
     "output_type": "execute_result",
     "data": {
      "text/plain": "array([[ 0.        ,  0.        ,  0.        , ...,  0.09281381,\n        16.32878834, 24.50135888],\n       [ 0.        ,  0.        ,  0.        , ...,  0.10635172,\n         4.08235868, 11.78067895],\n       [ 5.0265493 ,  5.75492718,  5.50880446, ...,  1.51336887,\n         8.77004199,  4.8595878 ],\n       ...,\n       [47.38065107, 49.40532664, 54.58096243, ...,  2.04928996,\n        13.35553641, 11.39145711],\n       [30.54388681, 32.7701926 , 31.95481487, ...,  1.60809268,\n        12.99884273,  8.58088671],\n       [ 3.97823636,  3.65499865,  4.0724794 , ...,  0.48399374,\n        12.1665199 ,  0.72662031]])"
     },
     "metadata": {},
     "execution_count": 21
    }
   ],
   "source": [
    "source_fpfh.data"
   ]
  },
  {
   "cell_type": "code",
   "execution_count": 12,
   "metadata": {},
   "outputs": [
    {
     "output_type": "execute_result",
     "data": {
      "text/plain": "<bound method PyCapsule.dimension of registration::Feature class with dimension = 33 and num = 4760\nAccess its data via data member.>"
     },
     "metadata": {},
     "execution_count": 12
    }
   ],
   "source": [
    "source_fpfh.dimension"
   ]
  },
  {
   "cell_type": "code",
   "execution_count": 16,
   "metadata": {},
   "outputs": [
    {
     "output_type": "execute_result",
     "data": {
      "text/plain": "<bound method PyCapsule.dimension of registration::Feature class with dimension = 33 and num = 3440\nAccess its data via data member.>"
     },
     "metadata": {},
     "execution_count": 16
    }
   ],
   "source": [
    "target_fpfh.dimension"
   ]
  },
  {
   "cell_type": "code",
   "execution_count": 22,
   "metadata": {},
   "outputs": [
    {
     "output_type": "execute_result",
     "data": {
      "text/plain": "std::vector<Eigen::Vector3d> with 4760 elements.\nUse numpy.asarray() to access data."
     },
     "metadata": {},
     "execution_count": 22
    }
   ],
   "source": [
    "source_down.points"
   ]
  },
  {
   "cell_type": "code",
   "execution_count": 10,
   "metadata": {},
   "outputs": [
    {
     "output_type": "execute_result",
     "data": {
      "text/plain": "array([[2.23442745, 1.33203125, 2.36328125],\n       [2.21174844, 1.35197699, 2.37628685],\n       [2.24693085, 1.29708717, 2.37313138],\n       ...,\n       [0.859375  , 1.44921875, 2.41223095],\n       [1.15630122, 2.89035268, 2.38624587],\n       [1.15736005, 1.29958513, 2.39776017]])"
     },
     "metadata": {},
     "execution_count": 10
    }
   ],
   "source": [
    "np.asarray(source_down.points)"
   ]
  },
  {
   "cell_type": "code",
   "execution_count": null,
   "metadata": {},
   "outputs": [],
   "source": [
    "\t\n",
    "def execute_global_registration(source_down, target_down, source_fpfh,\n",
    "                                target_fpfh, voxel_size):\n",
    "    distance_threshold = voxel_size * 1.5\n",
    "    print(\":: RANSAC registration on downsampled point clouds.\")\n",
    "    print(\"   Since the downsampling voxel size is %.3f,\" % voxel_size)\n",
    "    print(\"   we use a liberal distance threshold %.3f.\" % distance_threshold)\n",
    "\n",
    "    point_to_point =  o3d.registration.TransformationEstimationPointToPoint(False)\n",
    "    point_to_plane =  o3d.registration.TransformationEstimationPointToPlane()\n",
    "\n",
    "    corr_length = 0.9\n",
    "    distance_threshold = voxel_size * 1.5\n",
    "\n",
    "    c0 = o3d.registration.CorrespondenceCheckerBasedOnEdgeLength(corr_length)\n",
    "    c1 = o3d.registration.CorrespondenceCheckerBasedOnDistance(distance_threshold)\n",
    "    c2 = o3d.registration.CorrespondenceCheckerBasedOnNormal(0.095)\n",
    "\n",
    "    checker_list = [c0,c1,c2]\n",
    "\n",
    "    result = o3d.registration.registration_ransac_based_on_feature_matching(\n",
    "        source_down, target_down, \n",
    "        source_fpfh, target_fpfh,\n",
    "        distance_threshold,\n",
    "        point_to_point,\n",
    "        #point_to_plane,\n",
    "        checkers = checker_list)\n",
    "    return result"
   ]
  },
  {
   "cell_type": "code",
   "execution_count": 46,
   "metadata": {},
   "outputs": [],
   "source": [
    "import random "
   ]
  },
  {
   "cell_type": "code",
   "execution_count": 60,
   "metadata": {},
   "outputs": [],
   "source": [
    "    sf=source_fpfh.data.T\n",
    "    tf=target_fpfh.data.T\n",
    "    tree = KDTree(sf)\n",
    "    nearest_dist, nearest_ind = tree.query(tf) "
   ]
  },
  {
   "cell_type": "code",
   "execution_count": 61,
   "metadata": {},
   "outputs": [
    {
     "output_type": "execute_result",
     "data": {
      "text/plain": "(3440, 33)"
     },
     "metadata": {},
     "execution_count": 61
    }
   ],
   "source": [
    "tf.shape"
   ]
  },
  {
   "cell_type": "code",
   "execution_count": 62,
   "metadata": {},
   "outputs": [
    {
     "output_type": "execute_result",
     "data": {
      "text/plain": "array([[1904],\n       [2117],\n       [ 315],\n       ...,\n       [ 126],\n       [3728],\n       [4333]])"
     },
     "metadata": {},
     "execution_count": 62
    }
   ],
   "source": [
    "nearest_ind"
   ]
  },
  {
   "cell_type": "code",
   "execution_count": 63,
   "metadata": {},
   "outputs": [
    {
     "output_type": "execute_result",
     "data": {
      "text/plain": "3440"
     },
     "metadata": {},
     "execution_count": 63
    }
   ],
   "source": [
    "len(tf)"
   ]
  },
  {
   "cell_type": "code",
   "execution_count": 70,
   "metadata": {},
   "outputs": [],
   "source": [
    "random_list=[]\n",
    "for i in range(3):\n",
    "    x=random.randint(0,len(tf))\n",
    "    random_list.append(x)"
   ]
  },
  {
   "cell_type": "code",
   "execution_count": 71,
   "metadata": {},
   "outputs": [
    {
     "output_type": "error",
     "ename": "SyntaxError",
     "evalue": "invalid syntax (<ipython-input-71-05e205f10493>, line 1)",
     "traceback": [
      "\u001b[0;36m  File \u001b[0;32m\"<ipython-input-71-05e205f10493>\"\u001b[0;36m, line \u001b[0;32m1\u001b[0m\n\u001b[0;31m    pairs=[random_list;nearest_ind[random_list]]\u001b[0m\n\u001b[0m                      ^\u001b[0m\n\u001b[0;31mSyntaxError\u001b[0m\u001b[0;31m:\u001b[0m invalid syntax\n"
     ]
    }
   ],
   "source": [
    "    pairs=[random_list;nearest_ind[random_list]]\n",
    "    tp=np.asarray(tf[random_list])\n",
    "    sp=np.asarray(sf[)  \n",
    "    s_centroid= np.mean(sp,axis=0)\n",
    "    t_centroid = np.mean(tp,axis=0)\n",
    "\n",
    "    sp_centralized = sp-s_centroid\n",
    "    tp_centralized = tp-t_centroid\n",
    "\n",
    "    cov_matrix = np.sum(sp_centralized*tp_centralized.T)"
   ]
  },
  {
   "cell_type": "code",
   "execution_count": 67,
   "metadata": {},
   "outputs": [
    {
     "output_type": "execute_result",
     "data": {
      "text/plain": "array([[2.01788751e-01, 1.92633690e-01, 2.30187240e+00, 1.13100283e+01,\n        2.61211225e+00, 1.69541382e+02, 5.67510063e+00, 1.46636709e+00,\n        1.88463353e+00, 4.62065085e+00, 1.93430827e-01, 1.29631402e+00,\n        1.75643134e+00, 4.39518678e+00, 2.04181335e+00, 1.97406299e+01,\n        1.41658707e+02, 1.97973891e+01, 2.44100454e+00, 2.43295482e+00,\n        1.57319193e+00, 2.86637698e+00, 6.01290531e-01, 2.11208785e+00,\n        1.28475912e+00, 2.89630036e+00, 5.66438445e+01, 1.05576512e+02,\n        9.06381855e+00, 3.70623978e+00, 2.77464179e+00, 4.58113762e+00,\n        1.07593684e+01],\n       [1.53430804e-01, 0.00000000e+00, 0.00000000e+00, 0.00000000e+00,\n        2.99395410e-01, 1.90443471e+02, 9.10370257e+00, 0.00000000e+00,\n        0.00000000e+00, 0.00000000e+00, 0.00000000e+00, 0.00000000e+00,\n        0.00000000e+00, 0.00000000e+00, 8.18068459e-02, 9.06597115e+00,\n        1.82376160e+02, 8.14888663e+00, 3.27175821e-01, 0.00000000e+00,\n        0.00000000e+00, 0.00000000e+00, 0.00000000e+00, 0.00000000e+00,\n        1.07396237e-01, 1.05750560e+01, 1.57531894e+01, 1.71451512e+02,\n        2.07009098e+00, 4.27553001e-02, 0.00000000e+00, 0.00000000e+00,\n        0.00000000e+00],\n       [6.41859103e-02, 1.89928263e+00, 3.43589954e+00, 4.05283649e+01,\n        4.04563566e+01, 1.13109399e+02, 4.69706513e-01, 0.00000000e+00,\n        0.00000000e+00, 1.16156942e-02, 2.51889235e-02, 6.83181430e+00,\n        1.28141732e+01, 1.02263660e+01, 1.02946598e+01, 3.03833018e+01,\n        5.78052343e+01, 2.69179200e+01, 9.80256937e+00, 1.39781209e+01,\n        1.66726853e+01, 4.27315507e+00, 2.64582749e-01, 1.63980925e+00,\n        2.03483189e-01, 9.90430599e-01, 5.24185148e+00, 2.92498342e+01,\n        6.03924638e+01, 3.77714650e+01, 2.43682360e+01, 2.43085037e+01,\n        1.55693401e+01]])"
     },
     "metadata": {},
     "execution_count": 67
    }
   ],
   "source": [
    "tp"
   ]
  },
  {
   "cell_type": "code",
   "execution_count": null,
   "metadata": {},
   "outputs": [],
   "source": [
    "    sp=np.asarray(source_down.points)\n",
    "    tp=np.asarray(target_down.points)\n",
    "    s_centroid= np.mean(sp,axis=0)\n",
    "    t_centroid = np.mean(tp,axis=0)\n",
    "\n",
    "    sp_centralized = sp-s_centroid\n",
    "    tp_centralized = tp-t_centroid\n",
    "\n",
    "    cov_matrix = np.sum(sp_centralized*tp_centralized.T)"
   ]
  },
  {
   "cell_type": "code",
   "execution_count": null,
   "metadata": {},
   "outputs": [],
   "source": [
    "u, s, vh = np.linalg.svd(a, full_matrices=True)"
   ]
  },
  {
   "cell_type": "code",
   "execution_count": 34,
   "metadata": {},
   "outputs": [
    {
     "output_type": "execute_result",
     "data": {
      "text/plain": "array([[2.23442745, 1.33203125, 2.36328125],\n       [2.21174844, 1.35197699, 2.37628685],\n       [2.24693085, 1.29708717, 2.37313138],\n       ...,\n       [0.859375  , 1.44921875, 2.41223095],\n       [1.15630122, 2.89035268, 2.38624587],\n       [1.15736005, 1.29958513, 2.39776017]])"
     },
     "metadata": {},
     "execution_count": 34
    }
   ],
   "source": [
    "sp"
   ]
  },
  {
   "cell_type": "code",
   "execution_count": 35,
   "metadata": {},
   "outputs": [
    {
     "output_type": "execute_result",
     "data": {
      "text/plain": "array([1.5479294 , 2.13108925, 1.91847977])"
     },
     "metadata": {},
     "execution_count": 35
    }
   ],
   "source": [
    "s_centroid"
   ]
  },
  {
   "cell_type": "code",
   "execution_count": 23,
   "metadata": {},
   "outputs": [],
   "source": []
  },
  {
   "cell_type": "code",
   "execution_count": 25,
   "metadata": {},
   "outputs": [
    {
     "output_type": "error",
     "ename": "IndentationError",
     "evalue": "expected an indented block (<ipython-input-25-9fc7e3311a4a>, line 32)",
     "traceback": [
      "\u001b[0;36m  File \u001b[0;32m\"<ipython-input-25-9fc7e3311a4a>\"\u001b[0;36m, line \u001b[0;32m32\u001b[0m\n\u001b[0;31m    return transMatrix\u001b[0m\n\u001b[0m    ^\u001b[0m\n\u001b[0;31mIndentationError\u001b[0m\u001b[0;31m:\u001b[0m expected an indented block\n"
     ]
    }
   ],
   "source": [
    "def  my_ransac( \n",
    "        source_down, target_down, \n",
    "        source_fpfh, target_fpfh,\n",
    "        distance_threshold):\n",
    "\n",
    "    # pair the correspondant features\n",
    "    sf=source_fpfh.data.T\n",
    "    tf=target_fpfh.data.T\n",
    "    tree = KDTree(sf)\n",
    "    nearest_dist, nearest_ind = tree.query(tf, k=2)   \n",
    "\n",
    "    # in loop:\n",
    "    #   choose random three points\n",
    "    #   calculate the transform matrix\n",
    "    #   apply the transform matrix on all points\n",
    "    #   calculate the MSE of whole points\n",
    "    sp=np.asarray(source_down.points)\n",
    "    tp=np.asarray(target_down.points)\n",
    "    s_centroid= mean(sp)\n",
    "\n",
    "    random.randint(0,len(sp))\n",
    "    \n",
    "    # choose the best one as transformation\n",
    "\n",
    "    source_fpfh.data \n",
    "    err=0\n",
    "    err_min=1000000\n",
    "    for i in range(source.point):\n",
    "         err += (source.points_[c[0]] - target.points_[c[1]]).squaredNorm();\n",
    "         if err<err_min:\n",
    "\n",
    "    return transMatrix         "
   ]
  },
  {
   "cell_type": "code",
   "execution_count": null,
   "metadata": {},
   "outputs": [],
   "source": []
  }
 ],
 "metadata": {
  "kernelspec": {
   "display_name": "Python 3",
   "language": "python",
   "name": "python3"
  },
  "language_info": {
   "codemirror_mode": {
    "name": "ipython",
    "version": 3
   },
   "file_extension": ".py",
   "mimetype": "text/x-python",
   "name": "python",
   "nbconvert_exporter": "python",
   "pygments_lexer": "ipython3",
   "version": "3.7.4-final"
  }
 },
 "nbformat": 4,
 "nbformat_minor": 4
}